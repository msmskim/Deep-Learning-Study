{
 "cells": [
  {
   "cell_type": "code",
   "execution_count": 16,
   "metadata": {},
   "outputs": [],
   "source": [
    "import tensorflow as tf"
   ]
  },
  {
   "cell_type": "code",
   "execution_count": 17,
   "metadata": {},
   "outputs": [],
   "source": [
    "# 데이터 지정\n",
    "x_data = [1, 2, 3, 4, 5]\n",
    "y_data = [1, 2, 3, 4, 5]"
   ]
  },
  {
   "cell_type": "code",
   "execution_count": 18,
   "metadata": {},
   "outputs": [],
   "source": [
    "# 가중치 및 편향 지정\n",
    "W = tf.Variable(2.9)\n",
    "b = tf.Variable(0.5)"
   ]
  },
  {
   "cell_type": "code",
   "execution_count": 19,
   "metadata": {},
   "outputs": [],
   "source": [
    "# 가설함수 정의\n",
    "hypothesis = W*x_data + b"
   ]
  },
  {
   "cell_type": "code",
   "execution_count": 20,
   "metadata": {},
   "outputs": [],
   "source": [
    "# 비용함수 정의\n",
    "cost = tf.reduce_mean(tf.square(hypothesis - y_data))"
   ]
  },
  {
   "cell_type": "code",
   "execution_count": 21,
   "metadata": {},
   "outputs": [
    {
     "name": "stdout",
     "output_type": "stream",
     "text": [
      "    0|     2.452|     0.376| 45.660004\n",
      "   10|     1.104|  0.003398|  0.206336\n",
      "   20|     1.013|  -0.02091|  0.001026\n",
      "   30|     1.007|  -0.02184|  0.000093\n",
      "   40|     1.006|  -0.02123|  0.000083\n",
      "   50|     1.006|  -0.02053|  0.000077\n",
      "   60|     1.005|  -0.01984|  0.000072\n",
      "   70|     1.005|  -0.01918|  0.000067\n",
      "   80|     1.005|  -0.01854|  0.000063\n",
      "   90|     1.005|  -0.01793|  0.000059\n"
     ]
    }
   ],
   "source": [
    "# 경사하강법을 통해 parameter(W, b) 업데이트\n",
    "\n",
    "learning_rate = 0.01\n",
    "\n",
    "for i in range(100):\n",
    "    \n",
    "    with tf.GradientTape() as tape:\n",
    "        hypothesis = W*x_data + b\n",
    "        cost = tf.reduce_mean(tf.square(hypothesis - y_data))\n",
    "        \n",
    "    W_grad, b_grad = tape.gradient(cost, [W, b])\n",
    "    W.assign_sub(learning_rate * W_grad)\n",
    "    b.assign_sub(learning_rate * b_grad)\n",
    "    \n",
    "    if i % 10 == 0:\n",
    "        print(\"{:5}|{:10.4}|{:10.4}|{:10.6f}\".format(i, W.numpy(), b.numpy(), cost))"
   ]
  },
  {
   "cell_type": "code",
   "execution_count": 22,
   "metadata": {},
   "outputs": [
    {
     "name": "stdout",
     "output_type": "stream",
     "text": [
      "tf.Tensor(5.0066934, shape=(), dtype=float32)\n"
     ]
    }
   ],
   "source": [
    "print(W*5 +b)"
   ]
  },
  {
   "cell_type": "code",
   "execution_count": 23,
   "metadata": {},
   "outputs": [
    {
     "name": "stdout",
     "output_type": "stream",
     "text": [
      "tf.Tensor(2.4946523, shape=(), dtype=float32)\n"
     ]
    }
   ],
   "source": [
    "print(W*2.5 + b)"
   ]
  }
 ],
 "metadata": {
  "kernelspec": {
   "display_name": "Python 3",
   "language": "python",
   "name": "python3"
  },
  "language_info": {
   "codemirror_mode": {
    "name": "ipython",
    "version": 3
   },
   "file_extension": ".py",
   "mimetype": "text/x-python",
   "name": "python",
   "nbconvert_exporter": "python",
   "pygments_lexer": "ipython3",
   "version": "3.7.3"
  }
 },
 "nbformat": 4,
 "nbformat_minor": 2
}

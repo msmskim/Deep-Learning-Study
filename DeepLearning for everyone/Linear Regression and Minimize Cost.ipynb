{
 "cells": [
  {
   "cell_type": "code",
   "execution_count": 1,
   "metadata": {},
   "outputs": [],
   "source": [
    "# 파이썬 버전\n",
    "import numpy as np\n",
    "\n",
    "# 단순 회귀분석 변수 정의\n",
    "X = np.array([1, 2, 3])\n",
    "y = np.array([1, 2, 3])"
   ]
  },
  {
   "cell_type": "code",
   "execution_count": 2,
   "metadata": {},
   "outputs": [],
   "source": [
    "# 비용함수 정의\n",
    "def cost_function(W, X, y):\n",
    "    c = 0\n",
    "    for i in range(len(X)):\n",
    "        hypothesis = W * X[i]\n",
    "        c += (hypothesis - y[i]) ** 2\n",
    "        \n",
    "    return c / len(X)"
   ]
  },
  {
   "cell_type": "code",
   "execution_count": 3,
   "metadata": {},
   "outputs": [
    {
     "name": "stdout",
     "output_type": "stream",
     "text": [
      "-3.000 |   74.66667\n",
      "-2.429 |   54.85714\n",
      "-1.857 |   38.09524\n",
      "-1.286 |   24.38095\n",
      "-0.714 |   13.71429\n",
      "-0.143 |    6.09524\n",
      " 0.429 |    1.52381\n",
      " 1.000 |    0.00000\n",
      " 1.571 |    1.52381\n",
      " 2.143 |    6.09524\n",
      " 2.714 |   13.71429\n",
      " 3.286 |   24.38095\n",
      " 3.857 |   38.09524\n",
      " 4.429 |   54.85714\n",
      " 5.000 |   74.66667\n"
     ]
    }
   ],
   "source": [
    "# 비용 구하기\n",
    "for feed_W in np.linspace(-3, 5, num=15):\n",
    "    curr_cost = cost_function(feed_W,  X, y)\n",
    "    print(\"{:6.3f} | {:10.5f}\".format(feed_W, curr_cost))"
   ]
  },
  {
   "cell_type": "code",
   "execution_count": 4,
   "metadata": {},
   "outputs": [],
   "source": [
    "# 텐서플로우 버전\n",
    "import tensorflow as tf\n",
    "tf.enable_eager_execution()\n",
    "\n",
    "# 변수 정의\n",
    "X = np.array([1, 2, 3])\n",
    "y = np.array([1, 2, 3])"
   ]
  },
  {
   "cell_type": "code",
   "execution_count": 5,
   "metadata": {},
   "outputs": [],
   "source": [
    "# 비용함수 정의\n",
    "def cost_function2(W, X, y):\n",
    "    hypothesis = W * X\n",
    "    return tf.reduce_mean(tf.square(hypothesis - y))"
   ]
  },
  {
   "cell_type": "code",
   "execution_count": 6,
   "metadata": {},
   "outputs": [],
   "source": [
    "W_values = np.linspace(-3, 5, num=15)\n",
    "cost_values = []"
   ]
  },
  {
   "cell_type": "code",
   "execution_count": 7,
   "metadata": {
    "scrolled": true
   },
   "outputs": [
    {
     "name": "stdout",
     "output_type": "stream",
     "text": [
      "-3.000 |   74.66667\n",
      "-2.429 |   54.85714\n",
      "-1.857 |   38.09524\n",
      "-1.286 |   24.38095\n",
      "-0.714 |   13.71429\n",
      "-0.143 |    6.09524\n",
      " 0.429 |    1.52381\n",
      " 1.000 |    0.00000\n",
      " 1.571 |    1.52381\n",
      " 2.143 |    6.09524\n",
      " 2.714 |   13.71429\n",
      " 3.286 |   24.38095\n",
      " 3.857 |   38.09524\n",
      " 4.429 |   54.85714\n",
      " 5.000 |   74.66667\n"
     ]
    }
   ],
   "source": [
    "# 비용 업데이트\n",
    "for feed_W in W_values:\n",
    "    curr_cost = cost_function2(feed_W, X, y)\n",
    "    cost_values.append(curr_cost)\n",
    "    print(\"{:6.3f} | {:10.5f}\".format(feed_W, curr_cost))"
   ]
  },
  {
   "cell_type": "code",
   "execution_count": 8,
   "metadata": {},
   "outputs": [
    {
     "data": {
      "text/plain": [
       "[<tf.Tensor: id=3, shape=(), dtype=float64, numpy=74.66666666666667>,\n",
       " <tf.Tensor: id=8, shape=(), dtype=float64, numpy=54.85714285714287>,\n",
       " <tf.Tensor: id=13, shape=(), dtype=float64, numpy=38.095238095238095>,\n",
       " <tf.Tensor: id=18, shape=(), dtype=float64, numpy=24.380952380952383>,\n",
       " <tf.Tensor: id=23, shape=(), dtype=float64, numpy=13.714285714285717>,\n",
       " <tf.Tensor: id=28, shape=(), dtype=float64, numpy=6.095238095238099>,\n",
       " <tf.Tensor: id=33, shape=(), dtype=float64, numpy=1.5238095238095248>,\n",
       " <tf.Tensor: id=38, shape=(), dtype=float64, numpy=0.0>,\n",
       " <tf.Tensor: id=43, shape=(), dtype=float64, numpy=1.5238095238095226>,\n",
       " <tf.Tensor: id=48, shape=(), dtype=float64, numpy=6.0952380952380905>,\n",
       " <tf.Tensor: id=53, shape=(), dtype=float64, numpy=13.714285714285703>,\n",
       " <tf.Tensor: id=58, shape=(), dtype=float64, numpy=24.380952380952383>,\n",
       " <tf.Tensor: id=63, shape=(), dtype=float64, numpy=38.09523809523808>,\n",
       " <tf.Tensor: id=68, shape=(), dtype=float64, numpy=54.85714285714284>,\n",
       " <tf.Tensor: id=73, shape=(), dtype=float64, numpy=74.66666666666667>]"
      ]
     },
     "execution_count": 8,
     "metadata": {},
     "output_type": "execute_result"
    }
   ],
   "source": [
    "# 비용 확인\n",
    "cost_values"
   ]
  },
  {
   "cell_type": "code",
   "execution_count": 12,
   "metadata": {},
   "outputs": [
    {
     "name": "stdout",
     "output_type": "stream",
     "text": [
      "    0 | 18332.2188 |  47.398293\n",
      "   10 |  3855.3564 |  22.638384\n",
      "   20 |   810.9046 |  11.283927\n",
      "   30 |   170.6631 |   6.076973\n",
      "   40 |    36.0217 |   3.689155\n",
      "   50 |     7.7069 |   2.594144\n",
      "   60 |     1.7524 |   2.091991\n",
      "   70 |     0.5001 |   1.861713\n",
      "   80 |     0.2368 |   1.756112\n",
      "   90 |     0.1814 |   1.707684\n",
      "  100 |     0.1698 |   1.685477\n",
      "  110 |     0.1673 |   1.675292\n",
      "  120 |     0.1668 |   1.670622\n",
      "  130 |     0.1667 |   1.668481\n",
      "  140 |     0.1667 |   1.667498\n",
      "  150 |     0.1667 |   1.667048\n",
      "  160 |     0.1667 |   1.666842\n",
      "  170 |     0.1667 |   1.666747\n",
      "  180 |     0.1667 |   1.666703\n",
      "  190 |     0.1667 |   1.666684\n",
      "  200 |     0.1667 |   1.666674\n",
      "  210 |     0.1667 |   1.666670\n",
      "  220 |     0.1667 |   1.666668\n",
      "  230 |     0.1667 |   1.666667\n",
      "  240 |     0.1667 |   1.666667\n",
      "  250 |     0.1667 |   1.666667\n",
      "  260 |     0.1667 |   1.666667\n",
      "  270 |     0.1667 |   1.666667\n",
      "  280 |     0.1667 |   1.666667\n",
      "  290 |     0.1667 |   1.666667\n"
     ]
    }
   ],
   "source": [
    "# 경사하강법\n",
    "tf.set_random_seed(0)\n",
    "\n",
    "# 변수정의\n",
    "X = [1., 2., 3., 4.]\n",
    "y = [1., 3., 5., 7.]\n",
    "\n",
    "W = tf.Variable(tf.random_normal([1], -100, 100))\n",
    "\n",
    "for step in range(300):\n",
    "    hypothesis = W * X\n",
    "    cost = tf.reduce_mean(tf.square(hypothesis - y))\n",
    "    \n",
    "    alpha = 0.01\n",
    "    gradient = tf.reduce_mean(tf.multiply(tf.multiply(W, X) - y, X))\n",
    "    descent = W - tf.multiply(alpha, gradient)\n",
    "    W.assign(descent)\n",
    "    \n",
    "    if step % 10 == 0:\n",
    "        print('{:5} | {:10.4f} | {:10.6f}'.format(step, cost.numpy(), W.numpy()[0]))"
   ]
  },
  {
   "cell_type": "code",
   "execution_count": null,
   "metadata": {},
   "outputs": [],
   "source": []
  }
 ],
 "metadata": {
  "kernelspec": {
   "display_name": "Python 3",
   "language": "python",
   "name": "python3"
  },
  "language_info": {
   "codemirror_mode": {
    "name": "ipython",
    "version": 3
   },
   "file_extension": ".py",
   "mimetype": "text/x-python",
   "name": "python",
   "nbconvert_exporter": "python",
   "pygments_lexer": "ipython3",
   "version": "3.7.3"
  }
 },
 "nbformat": 4,
 "nbformat_minor": 2
}

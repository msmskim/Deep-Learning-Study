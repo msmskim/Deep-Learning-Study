{
 "cells": [
  {
   "cell_type": "code",
   "execution_count": 1,
   "metadata": {},
   "outputs": [],
   "source": [
    "import tensorflow as tf\n",
    "tf.enable_eager_execution()"
   ]
  },
  {
   "cell_type": "code",
   "execution_count": 2,
   "metadata": {},
   "outputs": [],
   "source": [
    "# version 1\n",
    "\n",
    "# Data\n",
    "x1 = [73., 93., 89., 96., 73.]\n",
    "x2 = [80., 88., 91., 98., 66.]\n",
    "x3 = [75., 93., 90., 100., 70.]\n",
    "Y = [152., 185., 180., 196., 142.]"
   ]
  },
  {
   "cell_type": "code",
   "execution_count": 3,
   "metadata": {},
   "outputs": [
    {
     "name": "stdout",
     "output_type": "stream",
     "text": [
      "WARNING:tensorflow:From C:\\Users\\dba\\.conda\\envs\\quantec\\lib\\site-packages\\tensorflow\\python\\ops\\resource_variable_ops.py:642: colocate_with (from tensorflow.python.framework.ops) is deprecated and will be removed in a future version.\n",
      "Instructions for updating:\n",
      "Colocations handled automatically by placer.\n"
     ]
    }
   ],
   "source": [
    "# Weights\n",
    "\n",
    "w1 = tf.Variable(10.)\n",
    "w2 = tf.Variable(10.)\n",
    "w3 = tf.Variable(10.)\n",
    "b = tf.Variable(10.)\n",
    "\n",
    "# hypothesis\n",
    "hypothesis = w1 * x1 + w2 * x2 + w3 * x3 + b"
   ]
  },
  {
   "cell_type": "code",
   "execution_count": 4,
   "metadata": {},
   "outputs": [
    {
     "name": "stdout",
     "output_type": "stream",
     "text": [
      "    0 |  114694.2266\n",
      "   50 |    1292.6401\n",
      "  100 |      34.2974\n",
      "  150 |      20.3020\n",
      "  200 |      20.1141\n",
      "  250 |      20.0795\n",
      "  300 |      20.0466\n",
      "  350 |      20.0140\n",
      "  400 |      19.9813\n",
      "  450 |      19.9488\n",
      "  500 |      19.9163\n",
      "  550 |      19.8840\n",
      "  600 |      19.8516\n",
      "  650 |      19.8194\n",
      "  700 |      19.7872\n",
      "  750 |      19.7552\n",
      "  800 |      19.7231\n",
      "  850 |      19.6913\n",
      "  900 |      19.6594\n",
      "  950 |      19.6277\n",
      " 1000 |      19.5960\n"
     ]
    }
   ],
   "source": [
    "# 데이터\n",
    "x1 = [73., 93., 89., 96., 73.]\n",
    "x2 = [80., 88., 91., 98., 66.]\n",
    "x3 = [75., 93., 90., 100., 70.]\n",
    "Y = [152., 185., 180., 196., 142.]\n",
    "\n",
    "# 랜덤 가중치\n",
    "w1 = tf.Variable(tf.random_normal([1]))\n",
    "w2 = tf.Variable(tf.random_normal([1]))\n",
    "w3 = tf.Variable(tf.random_normal([1]))\n",
    "b = tf.Variable(tf.random_normal([1]))\n",
    "\n",
    "\n",
    "learning_rate = 0.000001\n",
    "\n",
    "for i in range(1000+1):\n",
    "    with tf.GradientTape() as tape:\n",
    "        hypothesis = w1 * x1 + w2 * x2 + w3 * x3 + b\n",
    "        cost = tf.reduce_mean(tf.square(hypothesis - Y))\n",
    "        \n",
    "        # 비용함수의 그래디언트 계산\n",
    "        w1_grad, w2_grad, w3_grad, b_grad = tape.gradient(cost, [w1, w2, w3, b])\n",
    "        \n",
    "        # 업데이트\n",
    "        w1.assign_sub(learning_rate * w1_grad)\n",
    "        w2.assign_sub(learning_rate * w2_grad)\n",
    "        w3.assign_sub(learning_rate * w3_grad)\n",
    "        b.assign_sub(learning_rate * b_grad)\n",
    "        \n",
    "        if i % 50 == 0:\n",
    "            print(\"{:5} | {:12.4f}\".format(i, cost.numpy()))"
   ]
  },
  {
   "cell_type": "code",
   "execution_count": 5,
   "metadata": {
    "scrolled": true
   },
   "outputs": [
    {
     "name": "stdout",
     "output_type": "stream",
     "text": [
      "    0 | 39948.4922\n",
      "  100 |     6.0977\n",
      "  200 |     1.1786\n",
      "  300 |     1.1767\n",
      "  400 |     1.1754\n",
      "  500 |     1.1741\n",
      "  600 |     1.1728\n",
      "  700 |     1.1715\n",
      "  800 |     1.1702\n",
      "  900 |     1.1689\n",
      " 1000 |     1.1676\n",
      " 1100 |     1.1663\n",
      " 1200 |     1.1651\n",
      " 1300 |     1.1638\n",
      " 1400 |     1.1626\n",
      " 1500 |     1.1613\n",
      " 1600 |     1.1601\n",
      " 1700 |     1.1588\n",
      " 1800 |     1.1576\n",
      " 1900 |     1.1563\n",
      " 2000 |     1.1551\n"
     ]
    }
   ],
   "source": [
    "# version 2\n",
    "\n",
    "import numpy as np\n",
    "\n",
    "data = np.array([\n",
    "    [73., 93., 89., 96., 73.],\n",
    "    [80., 88., 91., 98., 66.],\n",
    "    [75., 93., 90., 100., 70.],\n",
    "    [152., 185., 180., 196., 142.]\n",
    "], dtype=np.float32)\n",
    "\n",
    "# 데이터와 라벨 구분\n",
    "\n",
    "X = data.T[:, :-1]\n",
    "y = data.T[:, [-1]]\n",
    "\n",
    "W = tf.Variable(tf.random_normal([3, 1]))\n",
    "b = tf.Variable(tf.random_normal([1]))\n",
    "\n",
    "learning_rate = 0.000001\n",
    "\n",
    "def predict(x):\n",
    "    return tf.matmul(X, W) + b\n",
    "\n",
    "n_epochs = 2000\n",
    "for i in range(n_epochs+1):\n",
    "    with tf.GradientTape() as tape:\n",
    "        cost = tf.reduce_mean(tf.square(predict(X) - y))\n",
    "        \n",
    "        \n",
    "    # gradient 계산하기\n",
    "    W_grad, b_grad = tape.gradient(cost, [W, b])\n",
    "    \n",
    "    # 업데이트\n",
    "    W.assign_sub(learning_rate * W_grad)\n",
    "    b.assign_sub(learning_rate * b_grad)\n",
    "    \n",
    "    if i % 100 == 0:\n",
    "        print(\"{:5} | {:10.4f}\".format(i, cost.numpy()))"
   ]
  }
 ],
 "metadata": {
  "kernelspec": {
   "display_name": "Python 3",
   "language": "python",
   "name": "python3"
  },
  "language_info": {
   "codemirror_mode": {
    "name": "ipython",
    "version": 3
   },
   "file_extension": ".py",
   "mimetype": "text/x-python",
   "name": "python",
   "nbconvert_exporter": "python",
   "pygments_lexer": "ipython3",
   "version": "3.7.3"
  }
 },
 "nbformat": 4,
 "nbformat_minor": 2
}
